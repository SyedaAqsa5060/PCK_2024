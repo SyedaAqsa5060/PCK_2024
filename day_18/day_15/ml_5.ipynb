{
 "cells": [
  {
   "cell_type": "markdown",
   "id": "396caa01",
   "metadata": {},
   "source": [
    "# Outliers \n",
    "## Names of outliers\n",
    "#### 1. outliers \n",
    "#### 2. Deviates\n",
    "#### 3. Abnormalties\n",
    "#### 4. Anomalious points \n",
    "#### 5. Abberent observation \n",
    "# Types of outliers \n",
    "#### 1. univariate\n",
    "#### 2. Multivariate\n",
    "#### 3. Global outlier \n",
    "#### 4. point outlier \n",
    "#### 5. local outlier\n",
    "#### 6. contexual outlier( only in one clusters )"
   ]
  },
  {
   "cell_type": "markdown",
   "id": "2b9a1b88",
   "metadata": {},
   "source": [
    "# Example of outliers "
   ]
  },
  {
   "cell_type": "code",
   "execution_count": 1,
   "id": "f3df6f84",
   "metadata": {},
   "outputs": [
    {
     "name": "stdout",
     "output_type": "stream",
     "text": [
      "----------------------------------------\n",
      "Here is the data with outliers:\n",
      "     Age   Z-Score\n",
      "0    20 -0.938954\n",
      "1    21 -0.806396\n",
      "2    22 -0.673838\n",
      "3    23 -0.541280\n",
      "4    24 -0.408721\n",
      "5    25 -0.276163\n",
      "6    26 -0.143605\n",
      "7    27 -0.011047\n",
      "8    28  0.121512\n",
      "9    29  0.254070\n",
      "10   30  0.386628\n",
      "11   50  3.037793\n",
      "----------------------------------------\n",
      "Here are the outliers based on the z-score threshold, 3:\n",
      "     Age   Z-Score\n",
      "11   50  3.037793\n",
      "----------------------------------------\n",
      "Here is the data without outliers:\n",
      "     Age   Z-Score\n",
      "0    20 -0.938954\n",
      "1    21 -0.806396\n",
      "2    22 -0.673838\n",
      "3    23 -0.541280\n",
      "4    24 -0.408721\n",
      "5    25 -0.276163\n",
      "6    26 -0.143605\n",
      "7    27 -0.011047\n",
      "8    28  0.121512\n",
      "9    29  0.254070\n",
      "10   30  0.386628\n"
     ]
    }
   ],
   "source": [
    "# Step 1: Import the required libraries\n",
    "import pandas as pd\n",
    "import numpy as np\n",
    "\n",
    "# Step 2: Create the data\n",
    "data = pd.DataFrame({'Age': [20, 21, 22, 23, 24, 25, 26, 27, 28, 29, 30, 50]})\n",
    "\n",
    "# Step 3: Calculate the mean and standard deviation\n",
    "mean = np.mean(data['Age'])\n",
    "std = np.std(data['Age'])\n",
    "\n",
    "# Step 4: Calculate the Z-Score\n",
    "data['Z-Score'] = (data['Age'] - mean) / std\n",
    "\n",
    "# Step 5: Print the data\n",
    "print(\"----------------------------------------\")\n",
    "print(f\"Here is the data with outliers:\\n {data}\")\n",
    "print(\"----------------------------------------\")\n",
    "# Step 6: Print the outliers\n",
    "print(f\"Here are the outliers based on the z-score threshold, 3:\\n {data[data['Z-Score'] > 3]}\")\n",
    "print(\"----------------------------------------\")\n",
    "# Step 7: Remove the outliers\n",
    "data = data[data['Z-Score'] <= 3]\n",
    "\n",
    "# Step 8: Print the data without outliers\n",
    "print(f\"Here is the data without outliers:\\n {data}\")"
   ]
  },
  {
   "cell_type": "markdown",
   "id": "2fd65127",
   "metadata": {},
   "source": [
    "### Detect and Remove Outliers\n",
    "\n",
    "Outliers ko identify karne ke liye, hum kuch techniques use karte hain. In techniques ko hum **‘Outlier Detection Techniques’** kehte hain. In techniques mein se kuch neeche diye gaye hain:\n",
    "\n",
    "- Z-Score\n",
    "- IQR\n",
    "- DBSCAN\n",
    "- Isolation Forest\n",
    "- Local Outlier Factor\n",
    "- Elliptic Envelope\n",
    "- One-Class SVM\n",
    "- Mahalanobis Distance\n",
    "- Robust Random Cut Forest\n",
    "- Histogram-based Outlier Score\n",
    "- K-Nearest Neighbors\n",
    "- K-Means Clustering\n",
    "- Local Correlation Integral\n",
    "- *and many more…*\n",
    "\n",
    "Ham sirf **Z-Score**, **IQR** aur **K-Means Clustering** ko dekhenge.\n"
   ]
  },
  {
   "cell_type": "markdown",
   "id": "16cd61e9",
   "metadata": {},
   "source": [
    " <!-- Detect and remove Outliers\n",
    "Outliers ko identify karne ke liye, hum kuch techniques use karte hain. In techniques ko hum ‘Outlier Detection Techniques’ kehte hain. In techniques mein se kuch neeche diye gaye hain:\n",
    "\n",
    "Z-Score\n",
    "IQR\n",
    "DBSCAN\n",
    "Isolation Forest\n",
    "Local Outlier Factor\n",
    "Elliptic Envelope\n",
    "One-Class SVM\n",
    "Mahalanobis Distance\n",
    "Robust Random Cut Forest\n",
    "Histogram-based Outlier Score\n",
    "K-Nearest Neighbors\n",
    "K-Means Clustering\n",
    "Local Correlation Integral\n",
    "and many more…\n",
    "Ham sirf Z-Score, IQR or k-means clustering ko dekhenge.* -->"
   ]
  },
  {
   "cell_type": "markdown",
   "id": "4fa183b0",
   "metadata": {},
   "source": [
    "# K_means clustring  is  used for outliears "
   ]
  },
  {
   "cell_type": "markdown",
   "id": "304b9cb4",
   "metadata": {},
   "source": [
    "Handling Outliers\n",
    "Outliers ko handle karne ke liye, hum kuch techniques use karte hain. In techniques ko hum ‘Outlier Handling Techniques’ kehte hain. In techniques mein se kuch neeche diye gaye hain:\n",
    "\n",
    "Removing the outlier: This is the most common method where all detected outliers are removed from the dataset.\n",
    "Transforming and binning values: Outliers can be transformed to bring them within a range. Techniques like log transformation or square root transformation can be used.\n",
    "Imputation: Outliers can also be replaced with mean, median, or mode values.\n",
    "Separate treatment: In some use-cases, it’s beneficial to treat outliers separately rather than removing or imputing them.\n",
    "Robus Statistical Methods: Some of the statistical methods to analyze and model the data are less sensitive to outliers and provide more accurate results in the data.\n",
    "I have explained some of these techniques in the section above.. Where we remove the outliers using the Z-Score, IQR and K-Means clustering methods. You can also use the other techniques by yourself and practice them."
   ]
  }
 ],
 "metadata": {
  "kernelspec": {
   "display_name": "Python 3",
   "language": "python",
   "name": "python3"
  },
  "language_info": {
   "codemirror_mode": {
    "name": "ipython",
    "version": 3
   },
   "file_extension": ".py",
   "mimetype": "text/x-python",
   "name": "python",
   "nbconvert_exporter": "python",
   "pygments_lexer": "ipython3",
   "version": "3.12.1"
  }
 },
 "nbformat": 4,
 "nbformat_minor": 5
}
