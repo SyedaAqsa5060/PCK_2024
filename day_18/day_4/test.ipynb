{
 "cells": [
  {
   "cell_type": "markdown",
   "metadata": {},
   "source": [
    "**we can add haddings in this file**"
   ]
  },
  {
   "cell_type": "code",
   "execution_count": 4,
   "metadata": {},
   "outputs": [
    {
     "name": "stdout",
     "output_type": "stream",
     "text": [
      "aqsafiaz\n"
     ]
    },
    {
     "data": {
      "text/plain": [
       "7"
      ]
     },
     "execution_count": 4,
     "metadata": {},
     "output_type": "execute_result"
    }
   ],
   "source": [
    "# code_1:\n",
    "print(\"aqsafiaz\")   # in this we can use the seperate box for code \n",
    "3+4                 # we don't need to add print function inthis "
   ]
  },
  {
   "cell_type": "markdown",
   "metadata": {},
   "source": [
    "**we can write second code**"
   ]
  },
  {
   "cell_type": "code",
   "execution_count": 5,
   "metadata": {},
   "outputs": [
    {
     "name": "stdout",
     "output_type": "stream",
     "text": [
      "aqsafiaz\n"
     ]
    }
   ],
   "source": [
    "#code_2\n",
    "x =input(\"what is your name \")\n",
    "print(x)\n"
   ]
  },
  {
   "cell_type": "markdown",
   "metadata": {},
   "source": [
    "we can also add variable "
   ]
  },
  {
   "cell_type": "code",
   "execution_count": 6,
   "metadata": {},
   "outputs": [],
   "source": [
    "#code_3\n",
    "samosa=('aloo', 'piaz', 'tamatar','maida','dhania', 'keema')"
   ]
  },
  {
   "cell_type": "code",
   "execution_count": null,
   "metadata": {},
   "outputs": [
    {
     "data": {
      "text/plain": [
       "('aloo', 'piaz', 'tamatar', 'maida', 'dhania', 'keema')"
      ]
     },
     "execution_count": 7,
     "metadata": {},
     "output_type": "execute_result"
    }
   ],
   "source": [
    "samosa        #we don't need to use print function \n",
    "              #we can also use the different languange in same different cell \n",
    "              #we don't need to used terminal output print below the cell\n",
    "              #Here jupter notebook stores the variables  "
   ]
  }
 ],
 "metadata": {
  "kernelspec": {
   "display_name": "Python 3",
   "language": "python",
   "name": "python3"
  },
  "language_info": {
   "codemirror_mode": {
    "name": "ipython",
    "version": 3
   },
   "file_extension": ".py",
   "mimetype": "text/x-python",
   "name": "python",
   "nbconvert_exporter": "python",
   "pygments_lexer": "ipython3",
   "version": "3.12.1"
  }
 },
 "nbformat": 4,
 "nbformat_minor": 2
}
