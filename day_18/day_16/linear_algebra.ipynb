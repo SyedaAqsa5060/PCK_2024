{
 "cells": [
  {
   "cell_type": "markdown",
   "metadata": {},
   "source": [
    "# units of measurment (measuer the physical quantity )\n",
    "### 1. length (meter, cm , feet)\n",
    "### 2. volume(liter, gallons )\n",
    "### 3. mass(kg, pounds)\n",
    "### 4. time(sec, mint, hours) you're right! Time is not a physical object like mass or length, but it is still considered a physical quantity because it can be measured and affects physical processes.\n",
    "\n",
    "#### In physics, time is treated as a fundamental dimension (along with length, mass, etc.), and its standard unit in the SI system is the second (s). Even though we cannot \"touch\" time, we can observe and measure it using clocks and other instruments. ⏳✨"
   ]
  },
  {
   "cell_type": "markdown",
   "metadata": {},
   "source": [
    "#### Metric Units (SI Units)\n",
    "##### The metric system is a decimal-based system used worldwide for scientific and everyday measurements.\n",
    "###### Examples:\n",
    "###### Length: meter (m), kilometer (km), centimeter (cm)\n",
    "##### Mass: gram (g), kilogram (kg)\n",
    "#### Volume: liter (L)\n",
    "##### Temperature: Celsius (°C), Kelvin (K)\n",
    "# --------------------------------------------------------------\n",
    "# Imperial Units\n",
    "#### The imperial system is mainly used in the United States, UK (partially), and a few other countries.\n",
    "### Examples:\n",
    "### Length: inch, foot (ft), mile\n",
    "#### Mass: ounce, pound (lb), ton\n",
    "### Volume: gallon, pint\n",
    "### Temperature: Fahrenheit (°F)"
   ]
  },
  {
   "cell_type": "markdown",
   "metadata": {},
   "source": [
    "# introduction to Geometry \n",
    "###### lines  , points , angles "
   ]
  },
  {
   "cell_type": "markdown",
   "metadata": {},
   "source": [
    "### data analysis basic in algebra\n",
    "##### understanding data, collecting data, organizing data and then distcriptive data\n",
    "##### mean , median , mode , range (lower to larger), Interqurtile(IQR) and probability( use in ml )\n",
    "##### probabilty (simple probabilty , compound events )"
   ]
  },
  {
   "cell_type": "markdown",
   "metadata": {},
   "source": [
    "# linear algebra \n",
    "##### linear algebra is the branch of mathematics that deal with the vector , vector_space  , linear_maping \n",
    "##### system of linear equation , it is the fundamental of many of application physics, computer_science"
   ]
  }
 ],
 "metadata": {
  "language_info": {
   "name": "python"
  }
 },
 "nbformat": 4,
 "nbformat_minor": 2
}
