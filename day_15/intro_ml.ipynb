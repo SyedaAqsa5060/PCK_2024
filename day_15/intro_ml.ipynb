{
 "cells": [
  {
   "cell_type": "markdown",
   "metadata": {},
   "source": [
    "# machine  learning history \n",
    "##### 1.1943 mathematical neural modling\n",
    "##### 2. 1950 turning test \n",
    "##### 3. 1952 auther samuels checker programer\n",
    "##### 4. 1957 frank rosenblatte's prceptron\n",
    "##### 5. 1967 nearest neighbour algorithum \n",
    "\n",
    "# types of machine learning \n",
    "#### 1. supervised ml\n",
    " ##### a. resgression (number)\n",
    " ###### b. classification (catogery)\n",
    " ##### alogorithum of supervised ml :::\n",
    " ###### 1. logistic regressinon\n",
    " ###### 2. k_nearest neighbou(k_nn)\n",
    " ###### 3. support vector machine \n",
    " ###### 4. kernel support vector machine \n",
    " ###### 5. Navies Bayes\n",
    " ###### 6. decision treee classification\n",
    " ###### 7. random forest classification\n",
    "#### 2.unsupervised ml (clustring)\n",
    "#### algorithms of un_supervised ml\n",
    "##### 1. k_means clustring \n",
    "##### 2. hierachical clusting\n",
    "##### 3. porbability clusting \n",
    "#### 3. semisupervised ml\n",
    "#### 4. reinforcement ml\n",
    "### alogrithms \n",
    "#### 1. model_free inforcemrnt learning \n",
    "##### a. policy optimization\n",
    "##### b. q_ learning \n",
    "#### 2. model_base reinforcement learning \n",
    "##### a. learn_ the model\n",
    "##### b. give the model\n",
    "### --------------------------------------------------------------------------\n",
    "##### x is input , features  where y is output , lables \n",
    "#### X (Input, Feature):\n",
    "### 1. Independent Variable\n",
    "### 2. Predictor Variable\n",
    "### 3.Explanatory Variable\n",
    "### 4. Regressor\n",
    "#### 5. Covariate\n",
    "#### For Y (Output, Label):\n",
    "# Dependent Variable\n",
    "### Target Variable\n",
    "### Response Variable\n",
    "### Outcome Variable\n",
    "### These names are used in different contexts, such as regression, classification, and statistical modeling\n",
    "## installion of scikit_learn \n",
    "### in terminal we type pip install scikit_learn\n",
    "#### pytorch, tenserflow, sickit_learn are more important libaray\n",
    "# ------------------------------------------------------------------------------------\n",
    "### Decision Tree Algorithm (Supervised Learning)\n",
    "### A Decision Tree is a supervised learning algorithm used for classification and regression. It works by splitting the data into smaller groups based on feature values, forming a tree-like structure.\n",
    "\n",
    "\n"
   ]
  },
  {
   "cell_type": "code",
   "execution_count": null,
   "metadata": {},
   "outputs": [],
   "source": [
    "# # step 1. import libraries\n",
    "# from sklearn.linear_model import LinearRegression\n",
    "# # import data\n",
    "# from sklearn.datasets import load_breast_cancer"
   ]
  },
  {
   "cell_type": "markdown",
   "metadata": {},
   "source": [
    "# Assignment why the data set of boston is removed from the sicket_learn \n",
    "###### The Boston Housing Dataset was removed from scikit-learn due to ethical concerns and bias. It included a racial feature (\"B\") that linked race to housing prices, which is discriminatory. The dataset is also outdated and too small (506 samples) for modern ML applications. Using such biased data can lead to unfair predictions. Alternatives include the California Housing Dataset and Ames Housing Dataset for regression tasks.\n",
    "\n",
    "\n",
    "\n",
    "\n",
    "\n",
    "\n",
    "\n"
   ]
  },
  {
   "cell_type": "markdown",
   "metadata": {},
   "source": [
    "# what is scikit_learn ??\n",
    "###### Scikit-learn is a popular machine learning library in Python. It provides tools for classification, regression, clustering, dimensionality reduction, and data preprocessing. It is built on NumPy, SciPy, and Matplotlib and is easy to use for both beginners and experts. It is used for building machine learning models, data analysis, and AI applications. It is widely used in research, industry, and academia for predictive modeling. 🚀\n",
    "\n",
    "\n",
    "\n",
    "\n",
    "\n",
    "\n",
    "\n",
    " "
   ]
  },
  {
   "cell_type": "code",
   "execution_count": 1,
   "metadata": {},
   "outputs": [],
   "source": [
    "import cv2"
   ]
  }
 ],
 "metadata": {
  "kernelspec": {
   "display_name": "Python 3",
   "language": "python",
   "name": "python3"
  },
  "language_info": {
   "codemirror_mode": {
    "name": "ipython",
    "version": 3
   },
   "file_extension": ".py",
   "mimetype": "text/x-python",
   "name": "python",
   "nbconvert_exporter": "python",
   "pygments_lexer": "ipython3",
   "version": "3.12.1"
  }
 },
 "nbformat": 4,
 "nbformat_minor": 2
}
