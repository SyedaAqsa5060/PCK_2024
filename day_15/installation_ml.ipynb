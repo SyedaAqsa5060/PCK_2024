{
 "cells": [
  {
   "cell_type": "markdown",
   "id": "05c1a26a",
   "metadata": {},
   "source": [
    "# steps\n",
    "# 1. create  the new anconda enviornment `python_ml`\n",
    "# 2. install the following packges\n",
    "       1. python conca install python \n",
    "       2. pandas \n",
    "       3. numpy\n",
    "       4. maplotlib\n",
    "       5. seaborn \n",
    "       6. scipy\n",
    "       7. scikit_learn\n",
    "       8. jupyter \n",
    "       9. openpyxl\n",
    "       10. plotly"
   ]
  },
  {
   "cell_type": "code",
   "execution_count": 1,
   "id": "0903e768",
   "metadata": {},
   "outputs": [],
   "source": [
    "import pandas as pd "
   ]
  },
  {
   "cell_type": "code",
   "execution_count": null,
   "id": "7493f13d",
   "metadata": {},
   "outputs": [],
   "source": []
  }
 ],
 "metadata": {
  "kernelspec": {
   "display_name": "Python 3",
   "language": "python",
   "name": "python3"
  },
  "language_info": {
   "codemirror_mode": {
    "name": "ipython",
    "version": 3
   },
   "file_extension": ".py",
   "mimetype": "text/x-python",
   "name": "python",
   "nbconvert_exporter": "python",
   "pygments_lexer": "ipython3",
   "version": "3.12.1"
  }
 },
 "nbformat": 4,
 "nbformat_minor": 5
}
